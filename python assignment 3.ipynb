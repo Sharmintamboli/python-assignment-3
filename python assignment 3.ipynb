{
 "cells": [
  {
   "cell_type": "code",
   "execution_count": null,
   "id": "6d7e64fb",
   "metadata": {},
   "outputs": [],
   "source": [
    "#question 1\n",
    "\"\"\"Why are functions advantageous to have in your programs?\"\"\"\n",
    "#its is easier to update ,read and create. reduce the duplicate code"
   ]
  },
  {
   "cell_type": "code",
   "execution_count": null,
   "id": "fb93769b",
   "metadata": {},
   "outputs": [],
   "source": [
    "#question2\n",
    "\"\"\"When does the code in a function run: when it&#39;s specified or when it&#39;s called?\"\"\"\n",
    "#it run when the function is called and not when the function is define"
   ]
  },
  {
   "cell_type": "code",
   "execution_count": 5,
   "id": "b66fcb34",
   "metadata": {},
   "outputs": [],
   "source": [
    "#question 3\n",
    "\"\"\"What statement creates a function?\"\"\"\n",
    "#def statement create function\n",
    "def "
   ]
  },
  {
   "cell_type": "code",
   "execution_count": null,
   "id": "0d8b0e56",
   "metadata": {},
   "outputs": [],
   "source": [
    "#question 4\n",
    "\"\"\"What statement creates a function?\"\"\"\n",
    "#function consist def statement and  function call is what moves the program execution into the function, \n",
    "#and the function call evaluates to the function's return value."
   ]
  },
  {
   "cell_type": "code",
   "execution_count": null,
   "id": "62553d1f",
   "metadata": {},
   "outputs": [],
   "source": [
    "#question 5\n",
    "\"\"\"How many global scopes are there in a Python program? How many local scopes?\"\"\"\n",
    "#one global scope and a local scope is created anytime when called\n"
   ]
  },
  {
   "cell_type": "code",
   "execution_count": null,
   "id": "ff8806ee",
   "metadata": {},
   "outputs": [],
   "source": [
    "#questin6\n",
    "\"\"\"What happens to variables in a local scope when the function call returns?\"\"\"\n",
    "#when the fun return all the variable dies and its forgetten"
   ]
  },
  {
   "cell_type": "code",
   "execution_count": null,
   "id": "6ddd8bb7",
   "metadata": {},
   "outputs": [],
   "source": [
    "#question7\n",
    "\"\"\"What is the concept of a return value? Is it possible to have a return value in an expression?\"\"\"\n",
    "# return value is the value that a function call evaluates to. \n",
    "#Like any value, a return value can be used as part of an expression."
   ]
  },
  {
   "cell_type": "code",
   "execution_count": null,
   "id": "a62c1279",
   "metadata": {},
   "outputs": [],
   "source": [
    "#question 8\n",
    "\"\"\"How do you make a function variable refer to the global variable?\"\"\"\n",
    "#a global statement will force a varaible funtion to convert to global varaible"
   ]
  },
  {
   "cell_type": "code",
   "execution_count": null,
   "id": "038a2c7b",
   "metadata": {},
   "outputs": [],
   "source": [
    "#question 9\n",
    "\"\"\"What is the data type of None?\"\"\"\n",
    "#none type"
   ]
  },
  {
   "cell_type": "code",
   "execution_count": null,
   "id": "5f6f0fc4",
   "metadata": {},
   "outputs": [],
   "source": [
    "#question 11\n",
    "\"\"\"What does the sentence import areallyourpetsnamederic do?\"\"\"\n",
    "# it import he statement import the module name"
   ]
  },
  {
   "cell_type": "code",
   "execution_count": null,
   "id": "aca4d217",
   "metadata": {},
   "outputs": [],
   "source": [
    "#question12\n",
    "\"\"\"If you had a bacon() feature in a spam module, what would you call it after importing spam?\"\"\"\n",
    "# it can be called as bacon.spam()"
   ]
  },
  {
   "cell_type": "code",
   "execution_count": null,
   "id": "e0734900",
   "metadata": {},
   "outputs": [],
   "source": [
    "#question 13\n",
    "\"\"\"What can you do to save a programme from crashing if it encounters an error?\"\"\"\n",
    "#place the line of code that miht cause error in try clause"
   ]
  },
  {
   "cell_type": "code",
   "execution_count": null,
   "id": "bad8e3ad",
   "metadata": {},
   "outputs": [],
   "source": [
    "3question 14\n",
    "\"\"\"What is the purpose of the try clause? What is the purpose of the except clause?\"\"\"\n",
    "#try clause is used to cheak and correct the error and except\n",
    "#except clause when the code that execute if an error happen"
   ]
  }
 ],
 "metadata": {
  "kernelspec": {
   "display_name": "Python 3 (ipykernel)",
   "language": "python",
   "name": "python3"
  },
  "language_info": {
   "codemirror_mode": {
    "name": "ipython",
    "version": 3
   },
   "file_extension": ".py",
   "mimetype": "text/x-python",
   "name": "python",
   "nbconvert_exporter": "python",
   "pygments_lexer": "ipython3",
   "version": "3.9.7"
  }
 },
 "nbformat": 4,
 "nbformat_minor": 5
}
